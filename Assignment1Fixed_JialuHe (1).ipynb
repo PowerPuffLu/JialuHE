{
 "cells": [
  {
   "cell_type": "markdown",
   "metadata": {},
   "source": [
    "## Task 1 (6 marks)\n",
    "In order to begin playing this game, we require a function that can update the game state after a move has been made.  Write a function ``add_coin(board, coin, column)``.  This function should take the following parameters:\n",
    "- ``board``: A list of lists representing the current state of the board\n",
    "- ``coin``: The character representing the current player's coin, i.e. 'R' or 'Y'\n",
    "- ``column``: An integer representing the column in which the player is inserting their coin, with 0 representing the left-most column in the grid.  You may assume that a value greater than the maximum number of columns in the grid will never be entered.\n",
    "Your function should return a list of lists representing the new state of the board after the coin has been played.\n",
    "\n",
    "Here are some examples you can use to call your function\n",
    "```python\n",
    "add_coin([[0,0,0,0],[0,0,0,0],[0,0,0,0],[0,0,0,0]], 'R', 2)\n",
    ">>> [[0, 0, 0, 0], [0, 0, 0, 0], [0, 0, 0, 0], [0, 0, 'R', 0]]\n",
    "add_coin([[0,0,0,0,0],[0,0,0,0,0],['R',0,0,0,0],['Y','R',0,'R','Y']], 'Y', 1)\n",
    ">>> [[0, 0, 0, 0, 0],\n",
    " [0, 0, 0, 0, 0],\n",
    " ['R', 'Y', 0, 0, 0],\n",
    " ['Y', 'R', 0, 'R', 'Y']]\n",
    "```"
   ]
  },
  {
   "cell_type": "code",
   "execution_count": 1,
   "metadata": {},
   "outputs": [],
   "source": [
    "def add_coin(board, coin, column):   \n",
    "    #Create an int represents the row of the added coin,\n",
    "    #which starts at the bottom row \n",
    "    row = len(board) - 1\n",
    "   \n",
    "    #Loop until empty position is found \n",
    "    while row >= 0 and board[row][column] != 0:\n",
    "            row -= 1                  \n",
    "   \n",
    "    #if row is empty, insert coin   \n",
    "    if row >= 0:\n",
    "        board[row][column] = coin\n",
    "    #if row is full, print message\n",
    "    else:\n",
    "        print('This column is full, pick another column.')\n",
    "        \n",
    "    return board"
   ]
  },
  {
   "cell_type": "code",
   "execution_count": 2,
   "metadata": {},
   "outputs": [
    {
     "data": {
      "text/plain": [
       "[[0, 0, 0, 0], [0, 0, 0, 0], [0, 0, 0, 0], [0, 0, 'R', 0]]"
      ]
     },
     "execution_count": 2,
     "metadata": {},
     "output_type": "execute_result"
    }
   ],
   "source": [
    "add_coin([[0,0,0,0],[0,0,0,0],[0,0,0,0],[0,0,0,0]], 'R', 2)"
   ]
  },
  {
   "cell_type": "code",
   "execution_count": 3,
   "metadata": {},
   "outputs": [
    {
     "data": {
      "text/plain": [
       "[[0, 0, 0, 0, 0],\n",
       " [0, 0, 0, 0, 0],\n",
       " ['R', 'Y', 0, 0, 0],\n",
       " ['Y', 'R', 0, 'R', 'Y']]"
      ]
     },
     "execution_count": 3,
     "metadata": {},
     "output_type": "execute_result"
    }
   ],
   "source": [
    "add_coin([[0,0,0,0,0],[0,0,0,0,0],['R',0,0,0,0],['Y','R',0,'R','Y']], 'Y', 1)"
   ]
  },
  {
   "cell_type": "code",
   "execution_count": 4,
   "metadata": {},
   "outputs": [
    {
     "data": {
      "text/plain": [
       "[[0, 0, 0, 0, 0],\n",
       " ['Y', 0, 0, 0, 0],\n",
       " ['R', 0, 0, 0, 'R'],\n",
       " ['Y', 'R', 0, 'R', 'Y']]"
      ]
     },
     "execution_count": 4,
     "metadata": {},
     "output_type": "execute_result"
    }
   ],
   "source": [
    "add_coin([[0,0,0,0,0],['Y',0,0,0,0],['R',0,0,0,0],['Y','R',0,'R','Y']], 'R', 4)"
   ]
  },
  {
   "cell_type": "code",
   "execution_count": 5,
   "metadata": {},
   "outputs": [
    {
     "name": "stdout",
     "output_type": "stream",
     "text": [
      "This column is full, pick another column.\n"
     ]
    },
    {
     "data": {
      "text/plain": [
       "[[0, 0, 0, 'Y'], [0, 0, 0, 'R'], [0, 0, 0, 'Y'], [0, 0, 0, 'R']]"
      ]
     },
     "execution_count": 5,
     "metadata": {},
     "output_type": "execute_result"
    }
   ],
   "source": [
    "add_coin([[0,0,0,'Y'],[0,0,0,'R'],[0,0,0,'Y'],[0,0,0,'R']], 'R', 3)"
   ]
  },
  {
   "cell_type": "markdown",
   "metadata": {},
   "source": [
    "## Task 2 (6 marks)\n",
    "To ascertain whether the game is finished, we need a function to determine whether a particular player has won.  Write a function ``is_winner(board, coin)``.  This function should take the following parameters:\n",
    "- ``board``: A list of lists representing the current state of the board\n",
    "- ``coin``: The character representing the current player's coin, i.e. 'R' or 'Y'\n",
    "Your function should return ``True`` if the player using the ``coin`` coins has won the game in the current board position and ``False`` otherwise.\n",
    "\n",
    "Here are some examples you can use to call your function:\n",
    "```python\n",
    "is_winner([[0,0,0,0,0],[0,0,0,0,0],['R',0,0,0,0],['Y','R',0,'R','Y']], 'Y')\n",
    ">>> False\n",
    "is_winner([['Y',0,0,0],['Y',0,0,0],['Y',0,'R','R'],['Y',0,'R','R']], 'R')\n",
    ">>> True\n",
    "```"
   ]
  },
  {
   "cell_type": "code",
   "execution_count": 10,
   "metadata": {},
   "outputs": [],
   "source": [
    "def is_winner(board, coin):       \n",
    "    #Reset player's win condition to False\n",
    "    win = False\n",
    "    #Get the size of the board\n",
    "    row = len(board)\n",
    "    col = len(board[0])\n",
    "    \n",
    "    #Examine each 2*2 square within the grid,\n",
    "    #if any 2*2 square contains the player's coin, player wins\n",
    "    for j in range(row - 1): \n",
    "        for i in range(col - 1): \n",
    "            if board[j][i] == coin \\\n",
    "            and board[j][i + 1] == coin \\\n",
    "            and board[j + 1][i] == coin \\\n",
    "            and board[j + 1][i + 1] == coin:\n",
    "                win = True\n",
    "                \n",
    "    return win       "
   ]
  },
  {
   "cell_type": "code",
   "execution_count": 11,
   "metadata": {},
   "outputs": [
    {
     "data": {
      "text/plain": [
       "False"
      ]
     },
     "execution_count": 11,
     "metadata": {},
     "output_type": "execute_result"
    }
   ],
   "source": [
    "is_winner([[0,0,0,0,0],[0,0,0,0,0],['R',0,0,0,0],['Y','R',0,'R','Y']], 'Y')"
   ]
  },
  {
   "cell_type": "code",
   "execution_count": 12,
   "metadata": {},
   "outputs": [
    {
     "data": {
      "text/plain": [
       "True"
      ]
     },
     "execution_count": 12,
     "metadata": {},
     "output_type": "execute_result"
    }
   ],
   "source": [
    "is_winner([['Y',0,0,0],['Y',0,0,0],['Y',0,'R','R'],['Y',0,'R','R']], 'R')"
   ]
  },
  {
   "cell_type": "code",
   "execution_count": 13,
   "metadata": {},
   "outputs": [
    {
     "data": {
      "text/plain": [
       "True"
      ]
     },
     "execution_count": 13,
     "metadata": {},
     "output_type": "execute_result"
    }
   ],
   "source": [
    "is_winner([[0,0,0,'R',0],['R',0,0,'Y','Y'],['R','R',0,'Y','Y'],['Y','R','R','R','Y']], 'Y')"
   ]
  },
  {
   "cell_type": "markdown",
   "metadata": {},
   "source": [
    "## Task 3 (9 marks)\n",
    "With these essential functions in place, we now wish to work towards building a competent AI to play our Connect Square game.  The concept of a <i>heuristic</i> is central to building an AI for most strategy games.  A heuristic is a function that maps a particular game state to a numeric value, indicating how desirable that state is to a particular player.  For example, a game state in which the player is about to win could be assigned a very high heuristic value, while a game state in which the player is about to lose could be assigned a very low value.\n",
    "\n",
    "There are numerous ways in which we can define a heuristic for any particular game, but we will adopt the following approach:\n",
    "- We will consider each overlapping 2 x 2 square within the grid.  For example, the points (0,0), (0, 1), (1, 0) and (1,1) will represent one square.  (1,0), (1, 1), (2, 0) and (2,1) will represent a second square and so on.\n",
    "- Consider the four points making up each square:\n",
    "\n",
    "\t-  If any one of those points contains an opponent's coin, it will be impossible to win the game by filling this square with our own coins and the square will therefore be assigned a value of 0.  \n",
    "\t- If one of the points contains our coin and the other three are empty the square will be assigned a value of 1. \n",
    "\t- If two of the points contain our coins and the other two points are empty then the square will be assigned a value of 10.\n",
    "\t- If three of the points contain our coins and the other one is empty then the square will be assigned a value of 100.\n",
    "\t- If all four of the points contain our coins then we have won the game and the square will be assigned a value of 1000.\n",
    "- The heuristic value for this game state is the sum of the value of each square in the grid.\n",
    "Note that there are some drawbacks to using this heuristic.  In particular, we don't consider how close our opponent is to completing a square so an AI that uses this heuristic will not try to prevent an opponent from completing his square.  You might like to consider how you could improve upon this heuristic, but for this task you should implement the heuristic as described.  Write a function ``heuristic(board, coin)`` that returns the heuristic value of the ``board`` for the player using the ``coin`` coins.\n",
    "\n",
    "Here are some examples you can use to call your function:\n",
    "\n",
    "```python\n",
    "heuristic([[0,0,0,0,0],[0,0,0,0,0],['R',0,0,0,0],['Y','R',0,'R','Y']], 'R')\n",
    ">>> 3\n",
    "heuristic([['Y',0,0,0],['Y',0,0,0],['Y',0,'R','R'],['Y',0,'R','R']], 'R')\n",
    ">>> 1021\n",
    "```"
   ]
  },
  {
   "cell_type": "code",
   "execution_count": 29,
   "metadata": {},
   "outputs": [],
   "source": [
    "import copy\n",
    "def heuristic(board, coin):              \n",
    "    #Get size of the board\n",
    "    row = len(board)\n",
    "    col = len(board[0])\n",
    "    #Copy the board, for heuristic value\n",
    "    board_number = copy.deepcopy(board)\n",
    "    \n",
    "    #Assign integers to copy of the board, empty position->0,\n",
    "    #player coin->1, oposition's coin-> -3\n",
    "    for j in range(row): \n",
    "           for i in range(col):\n",
    "                if board[j][i] == coin:\n",
    "                    board_number[j][i] = 1\n",
    "                elif board[j][i] == 0:\n",
    "                    board_number[j][i] = 0\n",
    "                else:\n",
    "                    board_number[j][i] = -3\n",
    "   \n",
    "    #Create variables for each 2*2 square count,\n",
    "    #and their heuristic value and board total heurist value.\n",
    "    square_count = 0\n",
    "    heur_square = 0\n",
    "    heur_total = 0 \n",
    "    \n",
    "    #Examine all 2*2 square within the board, calculate square count, /\n",
    "    #as the sum of integers within this 2*2 square   \n",
    "    for j in range(row - 1):          \n",
    "        for i in range(col - 1):\n",
    "                square_count = board_number[j][i] + board_number[j][i + 1]\\\n",
    "                + board_number[j + 1][i] + board_number[j + 1][i + 1]    \n",
    "                #Assign heuristic value to this 2*2 square\n",
    "                if square_count <= 0:\n",
    "                    heur_square = 0\n",
    "                elif square_count == 1:\n",
    "                    heur_square = 1                    \n",
    "                elif square_count == 2:\n",
    "                    heur_square = 10\n",
    "                elif square_count == 3:\n",
    "                    heur_square = 100\n",
    "                elif square_count == 4:\n",
    "                    heur_square = 1000 \n",
    "                #The return value is the total of all squares' heuristic\n",
    "                heur_total += heur_square\n",
    "                \n",
    "    return heur_total"
   ]
  },
  {
   "cell_type": "code",
   "execution_count": 30,
   "metadata": {},
   "outputs": [
    {
     "data": {
      "text/plain": [
       "3"
      ]
     },
     "execution_count": 30,
     "metadata": {},
     "output_type": "execute_result"
    }
   ],
   "source": [
    "heuristic([[0,0,0,0,0],[0,0,0,0,0],['R',0,0,0,0],['Y','R',0,'R','Y']], 'R')"
   ]
  },
  {
   "cell_type": "code",
   "execution_count": 31,
   "metadata": {},
   "outputs": [
    {
     "data": {
      "text/plain": [
       "1021"
      ]
     },
     "execution_count": 31,
     "metadata": {},
     "output_type": "execute_result"
    }
   ],
   "source": [
    "heuristic([['Y',0,0,0],['Y',0,0,0],['Y',0,'R','R'],['Y',0,'R','R']], 'R')"
   ]
  },
  {
   "cell_type": "code",
   "execution_count": 32,
   "metadata": {},
   "outputs": [
    {
     "data": {
      "text/plain": [
       "30"
      ]
     },
     "execution_count": 32,
     "metadata": {},
     "output_type": "execute_result"
    }
   ],
   "source": [
    "heuristic([['Y',0,0,0],['Y',0,0,0],['Y',0,'R','R'],['Y',0,'R','R']], 'Y')"
   ]
  },
  {
   "cell_type": "markdown",
   "metadata": {},
   "source": [
    "## Task 4 (9 marks)\n",
    "We now wish to create an AI player capable of playing (and hopefully winning) our Connect Square game.  Write a function ``ai_move(board, coin)`` to play the Connect Square game.  Your function should generate a list of all possible moves from the current ``board``.  Your function should then generate the board states that arise from making each of these moves and select the move that results in the state with the highest heuristic value.  If two states have the same heuristic value, then select the one that results from the using the numerically lowest column (e.g. column 1 is preferred over column 2 if the heuristic values are identical).  Finally, your function should return the new board state after applying the best move.\n",
    "\n",
    "Here are some examples you can use to call your function:\n",
    "\n",
    "```python\n",
    "ai_move([[0,0,0,0,0],[0,0,0,0,0],['R',0,0,0,0],['Y','R',0,'R','Y']], 'Y')\n",
    ">>> [[0, 0, 0, 0, 0],\n",
    " [0, 0, 0, 0, 0],\n",
    " ['R', 0, 0, 'Y', 0],\n",
    " ['Y', 'R', 0, 'R', 'Y']]\n",
    "ai_move([[0,0,0,0,0],['Y',0,0,0,0],['R',0,0,0,'Y'],['Y','R',0,'R','Y']], 'Y')\n",
    ">>> [[0, 0, 0, 0, 0],\n",
    " ['Y', 0, 0, 0, 0],\n",
    " ['R', 0, 0, 'Y', 'Y'],\n",
    " ['Y', 'R', 0, 'R', 'Y']]\n",
    "```"
   ]
  },
  {
   "cell_type": "code",
   "execution_count": 33,
   "metadata": {},
   "outputs": [],
   "source": [
    "import copy\n",
    "def ai_move(board, coin):        \n",
    "    board_copy = copy.deepcopy(board)\n",
    "    col = len(board[0])\n",
    "    board_one_move = []\n",
    "    heur_list = []\n",
    "    best_board = []\n",
    "    best_move = 0\n",
    "    \n",
    "    #Find each posssible move of the current board\n",
    "    for i in range(col):\n",
    "        board_one_move = add_coin(board, coin, i) \n",
    "        #Calculate heuristic value of the board after each move\n",
    "        #store this heuristic value in to a list\n",
    "        heur_list.append(heuristic(board_one_move, coin))\n",
    "        board = copy.deepcopy(board_copy)\n",
    "    \n",
    "    #The largest heuristic value in this list represents the best move\n",
    "    best_move = heur_list.index(max(heur_list))\n",
    "    #Make the best move on the actual board\n",
    "    best_board = add_coin(board, coin, best_move)\n",
    "    \n",
    "    return best_board\n",
    "          "
   ]
  },
  {
   "cell_type": "code",
   "execution_count": 34,
   "metadata": {},
   "outputs": [
    {
     "data": {
      "text/plain": [
       "[[0, 0, 0, 0, 0],\n",
       " [0, 0, 0, 0, 0],\n",
       " ['R', 0, 0, 'Y', 0],\n",
       " ['Y', 'R', 0, 'R', 'Y']]"
      ]
     },
     "execution_count": 34,
     "metadata": {},
     "output_type": "execute_result"
    }
   ],
   "source": [
    "#Sample test 1\n",
    "ai_move([[0,0,0,0,0],[0,0,0,0,0],['R',0,0,0,0],['Y','R',0,'R','Y']], 'Y')"
   ]
  },
  {
   "cell_type": "code",
   "execution_count": 35,
   "metadata": {},
   "outputs": [
    {
     "data": {
      "text/plain": [
       "[[0, 0, 0, 0, 0],\n",
       " ['Y', 0, 0, 0, 0],\n",
       " ['R', 0, 0, 'Y', 'Y'],\n",
       " ['Y', 'R', 0, 'R', 'Y']]"
      ]
     },
     "execution_count": 35,
     "metadata": {},
     "output_type": "execute_result"
    }
   ],
   "source": [
    "#Sample test2\n",
    "ai_move([[0,0,0,0,0],['Y',0,0,0,0],['R',0,0,0,'Y'],['Y','R',0,'R','Y']], 'Y')"
   ]
  },
  {
   "cell_type": "code",
   "execution_count": 36,
   "metadata": {},
   "outputs": [
    {
     "data": {
      "text/plain": [
       "[[0, 0, 0, 0, 0],\n",
       " [0, 0, 0, 0, 0],\n",
       " ['R', 'R', 0, 0, 0],\n",
       " ['Y', 'R', 0, 'R', 'Y']]"
      ]
     },
     "execution_count": 36,
     "metadata": {},
     "output_type": "execute_result"
    }
   ],
   "source": [
    "#Self test1\n",
    "ai_move([[0,0,0,0,0],[0,0,0,0,0],['R',0,0,0,0],['Y','R',0,'R','Y']], 'R')"
   ]
  },
  {
   "cell_type": "code",
   "execution_count": 37,
   "metadata": {},
   "outputs": [
    {
     "data": {
      "text/plain": [
       "[[0, 0, 0, 0, 0],\n",
       " ['Y', 0, 0, 0, 0],\n",
       " ['R', 0, 0, 0, 'Y'],\n",
       " ['Y', 'R', 'R', 'R', 'Y']]"
      ]
     },
     "execution_count": 37,
     "metadata": {},
     "output_type": "execute_result"
    }
   ],
   "source": [
    "#Self test2\n",
    "ai_move([[0,0,0,0,0],['Y',0,0,0,0],['R',0,0,0,'Y'],['Y','R',0,'R','Y']], 'R')"
   ]
  },
  {
   "cell_type": "markdown",
   "metadata": {},
   "source": [
    "## Code to run your game\n",
    "The following functions will allow you to play a game against your AI.  This may be useful when debugging."
   ]
  },
  {
   "cell_type": "code",
   "execution_count": 30,
   "metadata": {},
   "outputs": [],
   "source": [
    "def moves_exist(board) :\n",
    "    \"\"\"\n",
    "    A move can still be made if any blank space exists on the top row\n",
    "    \"\"\"\n",
    "    if 0 in board[0] :\n",
    "        return True\n",
    "    return False\n",
    "\n",
    "def nice_print(board) :\n",
    "    \"\"\"\n",
    "    Formats the board for nicer display\n",
    "    \"\"\"\n",
    "    for line in board :\n",
    "        print(*line)\n",
    "    \n",
    "def play_game(rows, cols) :\n",
    "    \"\"\"\n",
    "    Plays a game with a human player against your AI\n",
    "    \"\"\"\n",
    "    # Instantiate an empty board\n",
    "    board = [([0]*cols) for i in range(rows)]\n",
    "\n",
    "    # Continue playing as long as a legal move can still be made\n",
    "    while(moves_exist(board)) :\n",
    "\n",
    "        # AI plays first with the red tokens\n",
    "        board = ai_move(board, 'R')\n",
    "        nice_print(board)\n",
    "\n",
    "        # Check if the AI Player has won the game\n",
    "        if (is_winner(board, 'R')) :\n",
    "            print('AI Wins!')\n",
    "            break\n",
    "\n",
    "        # Player moves next with the yellow tokens\n",
    "        player_move = input('Enter your move: ')\n",
    "        board = add_coin(board, 'Y', int(player_move))\n",
    "        if (is_winner(board, 'Y')) :\n",
    "            print('You win!')\n",
    "            break"
   ]
  },
  {
   "cell_type": "code",
   "execution_count": null,
   "metadata": {},
   "outputs": [],
   "source": [
    "# Call play_game to play against your AI.  Useful for testing your code.\n",
    "play_game(5,7)"
   ]
  },
  {
   "cell_type": "code",
   "execution_count": null,
   "metadata": {},
   "outputs": [],
   "source": []
  }
 ],
 "metadata": {
  "kernelspec": {
   "display_name": "Python 3",
   "language": "python",
   "name": "python3"
  },
  "language_info": {
   "codemirror_mode": {
    "name": "ipython",
    "version": 3
   },
   "file_extension": ".py",
   "mimetype": "text/x-python",
   "name": "python",
   "nbconvert_exporter": "python",
   "pygments_lexer": "ipython3",
   "version": "3.7.4"
  }
 },
 "nbformat": 4,
 "nbformat_minor": 5
}
